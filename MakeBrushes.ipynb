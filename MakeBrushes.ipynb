{
 "cells": [
  {
   "cell_type": "markdown",
   "metadata": {},
   "source": [
    "In this analysis, I am hired as a consultant for a makeup brush line. I created this fake data to take a look at three of the most popular makeup brush lines to analyze characteristics & predict prices. "
   ]
  },
  {
   "cell_type": "code",
   "execution_count": 4,
   "metadata": {
    "collapsed": false
   },
   "outputs": [],
   "source": [
    "# import libraries\n",
    "import pandas as pd\n",
    "import numpy as np\n",
    "import matplotlib.pyplot as plt\n",
    "import seaborn as sns\n",
    "%matplotlib inline"
   ]
  },
  {
   "cell_type": "code",
   "execution_count": 5,
   "metadata": {
    "collapsed": false
   },
   "outputs": [
    {
     "data": {
      "text/html": [
       "<div>\n",
       "<style>\n",
       "    .dataframe thead tr:only-child th {\n",
       "        text-align: right;\n",
       "    }\n",
       "\n",
       "    .dataframe thead th {\n",
       "        text-align: left;\n",
       "    }\n",
       "\n",
       "    .dataframe tbody tr th {\n",
       "        vertical-align: top;\n",
       "    }\n",
       "</style>\n",
       "<table border=\"1\" class=\"dataframe\">\n",
       "  <thead>\n",
       "    <tr style=\"text-align: right;\">\n",
       "      <th></th>\n",
       "      <th>MakeupBrush</th>\n",
       "      <th>Price</th>\n",
       "      <th>Hair</th>\n",
       "      <th>Handle</th>\n",
       "    </tr>\n",
       "  </thead>\n",
       "  <tbody>\n",
       "    <tr>\n",
       "      <th>0</th>\n",
       "      <td>Sephora</td>\n",
       "      <td>97</td>\n",
       "      <td>Human</td>\n",
       "      <td>Black</td>\n",
       "    </tr>\n",
       "    <tr>\n",
       "      <th>1</th>\n",
       "      <td>Ulta</td>\n",
       "      <td>54</td>\n",
       "      <td>Synthetic</td>\n",
       "      <td>Chrome</td>\n",
       "    </tr>\n",
       "    <tr>\n",
       "      <th>2</th>\n",
       "      <td>Mac</td>\n",
       "      <td>23</td>\n",
       "      <td>Goat</td>\n",
       "      <td>Wood</td>\n",
       "    </tr>\n",
       "    <tr>\n",
       "      <th>3</th>\n",
       "      <td>Ulta</td>\n",
       "      <td>52</td>\n",
       "      <td>Synthetic</td>\n",
       "      <td>Chrome</td>\n",
       "    </tr>\n",
       "    <tr>\n",
       "      <th>4</th>\n",
       "      <td>Sephora</td>\n",
       "      <td>97</td>\n",
       "      <td>Human</td>\n",
       "      <td>Black</td>\n",
       "    </tr>\n",
       "  </tbody>\n",
       "</table>\n",
       "</div>"
      ],
      "text/plain": [
       "  MakeupBrush  Price       Hair  Handle\n",
       "0     Sephora     97      Human   Black\n",
       "1        Ulta     54  Synthetic  Chrome\n",
       "2         Mac     23       Goat    Wood\n",
       "3        Ulta     52  Synthetic  Chrome\n",
       "4     Sephora     97      Human   Black"
      ]
     },
     "execution_count": 5,
     "metadata": {},
     "output_type": "execute_result"
    }
   ],
   "source": [
    "# import file and view head of data\n",
    "df = pd.read_csv ('C:/Users/Cianika/Desktop/Data Science Degree/Projects/MakeupBrushes.csv')\n",
    "df.head()"
   ]
  },
  {
   "cell_type": "code",
   "execution_count": 6,
   "metadata": {
    "collapsed": false
   },
   "outputs": [
    {
     "data": {
      "text/plain": [
       "MakeupBrush    0\n",
       "Price          0\n",
       "Hair           0\n",
       "Handle         0\n",
       "dtype: int64"
      ]
     },
     "execution_count": 6,
     "metadata": {},
     "output_type": "execute_result"
    }
   ],
   "source": [
    "# view dataset for missing values\n",
    "df.isnull().sum()"
   ]
  },
  {
   "cell_type": "markdown",
   "metadata": {},
   "source": [
    "# Which makeupbrush appears more frequent in the dataset?"
   ]
  },
  {
   "cell_type": "code",
   "execution_count": 7,
   "metadata": {
    "collapsed": false
   },
   "outputs": [
    {
     "data": {
      "text/plain": [
       "<matplotlib.axes._subplots.AxesSubplot at 0x61fccc0>"
      ]
     },
     "execution_count": 7,
     "metadata": {},
     "output_type": "execute_result"
    },
    {
     "data": {
      "image/png": "[encoded data removed]",
      "text/plain": [
       "<matplotlib.figure.Figure at 0x61fce10>"
      ]
     },
     "metadata": {},
     "output_type": "display_data"
    }
   ],
   "source": [
    "# view number of brushes in dataset\n",
    "sns.set_style('whitegrid')\n",
    "sns.countplot(x='MakeupBrush', data=df, palette='coolwarm')"
   ]
  },
  {
   "cell_type": "code",
   "execution_count": 8,
   "metadata": {
    "collapsed": false
   },
   "outputs": [
    {
     "data": {
      "text/plain": [
       "MakeupBrush\n",
       "Mac        132\n",
       "Sephora    162\n",
       "Ulta       165\n",
       "dtype: int64"
      ]
     },
     "execution_count": 8,
     "metadata": {},
     "output_type": "execute_result"
    }
   ],
   "source": [
    "df.groupby('MakeupBrush').size()"
   ]
  },
  {
   "cell_type": "markdown",
   "metadata": {},
   "source": [
    "Per the visualization & table above, Ulta makeup brushes are most purchased."
   ]
  },
  {
   "cell_type": "markdown",
   "metadata": {},
   "source": [
    "# What brush is the most expensive?"
   ]
  },
  {
   "cell_type": "code",
   "execution_count": 9,
   "metadata": {
    "collapsed": false
   },
   "outputs": [
    {
     "data": {
      "text/plain": [
       "<matplotlib.axes._subplots.AxesSubplot at 0xc416198>"
      ]
     },
     "execution_count": 9,
     "metadata": {},
     "output_type": "execute_result"
    },
    {
     "data": {
      "image/png": "[encoded data removed]",
      "text/plain": [
       "<matplotlib.figure.Figure at 0xc5a1cc0>"
      ]
     },
     "metadata": {},
     "output_type": "display_data"
    }
   ],
   "source": [
    "# visualize the most makeupbrushes by price\n",
    "sns.set_style('whitegrid')\n",
    "sns.barplot(x='MakeupBrush', y='Price', data=df, palette='coolwarm')"
   ]
  },
  {
   "cell_type": "code",
   "execution_count": 10,
   "metadata": {
    "collapsed": false
   },
   "outputs": [
    {
     "data": {
      "text/plain": [
       "MakeupBrush\n",
       "Mac         4359\n",
       "Sephora    14260\n",
       "Ulta       10061\n",
       "Name: Price, dtype: int64"
      ]
     },
     "execution_count": 10,
     "metadata": {},
     "output_type": "execute_result"
    }
   ],
   "source": [
    "# total paid by brush brand\n",
    "df.groupby('MakeupBrush').Price.sum()"
   ]
  },
  {
   "cell_type": "markdown",
   "metadata": {},
   "source": [
    "Consumers paid more money on the Sephora brand brushes."
   ]
  },
  {
   "cell_type": "markdown",
   "metadata": {},
   "source": [
    "# What brush handle is most favorable?"
   ]
  },
  {
   "cell_type": "code",
   "execution_count": 11,
   "metadata": {
    "collapsed": false
   },
   "outputs": [
    {
     "data": {
      "text/plain": [
       "<matplotlib.axes._subplots.AxesSubplot at 0xc748668>"
      ]
     },
     "execution_count": 11,
     "metadata": {},
     "output_type": "execute_result"
    },
    {
     "data": {
      "image/png": "[encoded data removed]",
      "text/plain": [
       "<matplotlib.figure.Figure at 0xc437860>"
      ]
     },
     "metadata": {},
     "output_type": "display_data"
    }
   ],
   "source": [
    "# visualize the most brush handle by average price\n",
    "sns.set_style('whitegrid')\n",
    "sns.barplot(x='Handle', y='Price', data=df, color='Pink')"
   ]
  },
  {
   "cell_type": "markdown",
   "metadata": {},
   "source": [
    "Per the visualization above, most consumers favor the black makeup brush handle."
   ]
  },
  {
   "cell_type": "markdown",
   "metadata": {},
   "source": [
    "# How much are consumers paying for makeup brushes?"
   ]
  },
  {
   "cell_type": "code",
   "execution_count": 31,
   "metadata": {
    "collapsed": false
   },
   "outputs": [
    {
     "data": {
      "text/plain": [
       "<matplotlib.axes._subplots.AxesSubplot at 0xef89780>"
      ]
     },
     "execution_count": 31,
     "metadata": {},
     "output_type": "execute_result"
    },
    {
     "data": {
      "image/png": "[encoded data removed]",
      "text/plain": [
       "<matplotlib.figure.Figure at 0xef89400>"
      ]
     },
     "metadata": {},
     "output_type": "display_data"
    }
   ],
   "source": [
    "# visualize histogram of prices\n",
    "plt.figure(figsize=(10,7))\n",
    "sns.distplot(df.Price, bins=50)"
   ]
  },
  {
   "cell_type": "markdown",
   "metadata": {},
   "source": [
    "This visualization concludes that cheapest price paid by consumers was around 15 dollars for a makeupbrush and the most paid was 100 dollars. Most consumers paid a little under 70 dollars for a makeup brush. "
   ]
  },
  {
   "cell_type": "code",
   "execution_count": 18,
   "metadata": {
    "collapsed": false
   },
   "outputs": [
    {
     "data": {
      "text/plain": [
       "<matplotlib.axes._subplots.AxesSubplot at 0xdb4eb38>"
      ]
     },
     "execution_count": 18,
     "metadata": {},
     "output_type": "execute_result"
    },
    {
     "data": {
      "image/png": "[encoded data removed]",
      "text/plain": [
       "<matplotlib.figure.Figure at 0xdb3a0f0>"
      ]
     },
     "metadata": {},
     "output_type": "display_data"
    }
   ],
   "source": [
    "sns.swarmplot(x='MakeupBrush', y='Price', hue='Handle', data=df, palette='muted')"
   ]
  },
  {
   "cell_type": "markdown",
   "metadata": {},
   "source": [
    "This visualization shows that each makeup brand prices are in tiers. For the higher end (Sephora brand), consumers pay no less than around 75 dollars. This may coincide with the fact that those brushes have black handles. This is the opposite for Mac brushes where consumers can pay around 15 dollars for wood brushes. "
   ]
  },
  {
   "cell_type": "markdown",
   "metadata": {
    "collapsed": false,
    "scrolled": true
   },
   "source": [
    "# Predict Prices"
   ]
  },
  {
   "cell_type": "code",
   "execution_count": 37,
   "metadata": {
    "collapsed": false
   },
   "outputs": [
    {
     "name": "stdout",
     "output_type": "stream",
     "text": [
      "<class 'pandas.core.frame.DataFrame'>\n",
      "RangeIndex: 459 entries, 0 to 458\n",
      "Data columns (total 4 columns):\n",
      "MakeupBrush    459 non-null object\n",
      "Price          459 non-null int64\n",
      "Hair           459 non-null object\n",
      "Handle         459 non-null object\n",
      "dtypes: int64(1), object(3)\n",
      "memory usage: 14.4+ KB\n"
     ]
    }
   ],
   "source": [
    "# view info on dataset for categorical data\n",
    "df.info()"
   ]
  },
  {
   "cell_type": "code",
   "execution_count": 36,
   "metadata": {
    "collapsed": false
   },
   "outputs": [
    {
     "data": {
      "text/plain": [
       "MakeupBrush    False\n",
       "Price          False\n",
       "Hair           False\n",
       "Handle         False\n",
       "dtype: bool"
      ]
     },
     "execution_count": 36,
     "metadata": {},
     "output_type": "execute_result"
    }
   ],
   "source": [
    "# checking for null values\n",
    "df.isnull().any()"
   ]
  },
  {
   "cell_type": "code",
   "execution_count": 38,
   "metadata": {
    "collapsed": false
   },
   "outputs": [],
   "source": [
    "# transform categorial brush data\n",
    "def convert_brush(x):\n",
    "    if x == 'Sephora':\n",
    "        return 1\n",
    "    if x == 'Ulta':\n",
    "        return 2\n",
    "    if x == 'Mac':\n",
    "        return 3\n",
    "df['brush_num'] = df['MakeupBrush'].apply(convert_brush)"
   ]
  },
  {
   "cell_type": "code",
   "execution_count": 39,
   "metadata": {
    "collapsed": true
   },
   "outputs": [],
   "source": [
    "# transform categorial handle data\n",
    "def convert_handle(x):\n",
    "    if x == 'Wood':\n",
    "        return 1\n",
    "    if x == 'Black':\n",
    "        return 2\n",
    "    if x == 'Chrome':\n",
    "        return 3\n",
    "df['handle_num'] = df['Handle'].apply(convert_handle)"
   ]
  },
  {
   "cell_type": "code",
   "execution_count": 40,
   "metadata": {
    "collapsed": true
   },
   "outputs": [],
   "source": [
    "# transform categorial hair data\n",
    "def convert_hair(x):\n",
    "    if x == 'Goat':\n",
    "        return 1\n",
    "    if x == 'Human':\n",
    "        return 2\n",
    "    if x == 'Synthetic':\n",
    "        return 3\n",
    "df['hair_num'] = df['Hair'].apply(convert_hair)"
   ]
  },
  {
   "cell_type": "code",
   "execution_count": 41,
   "metadata": {
    "collapsed": false
   },
   "outputs": [
    {
     "data": {
      "text/html": [
       "<div>\n",
       "<style>\n",
       "    .dataframe thead tr:only-child th {\n",
       "        text-align: right;\n",
       "    }\n",
       "\n",
       "    .dataframe thead th {\n",
       "        text-align: left;\n",
       "    }\n",
       "\n",
       "    .dataframe tbody tr th {\n",
       "        vertical-align: top;\n",
       "    }\n",
       "</style>\n",
       "<table border=\"1\" class=\"dataframe\">\n",
       "  <thead>\n",
       "    <tr style=\"text-align: right;\">\n",
       "      <th></th>\n",
       "      <th>MakeupBrush</th>\n",
       "      <th>Price</th>\n",
       "      <th>Hair</th>\n",
       "      <th>Handle</th>\n",
       "      <th>brush_num</th>\n",
       "      <th>handle_num</th>\n",
       "      <th>hair_num</th>\n",
       "    </tr>\n",
       "  </thead>\n",
       "  <tbody>\n",
       "    <tr>\n",
       "      <th>0</th>\n",
       "      <td>Sephora</td>\n",
       "      <td>97</td>\n",
       "      <td>Human</td>\n",
       "      <td>Black</td>\n",
       "      <td>1</td>\n",
       "      <td>2</td>\n",
       "      <td>2</td>\n",
       "    </tr>\n",
       "    <tr>\n",
       "      <th>1</th>\n",
       "      <td>Ulta</td>\n",
       "      <td>54</td>\n",
       "      <td>Synthetic</td>\n",
       "      <td>Chrome</td>\n",
       "      <td>2</td>\n",
       "      <td>3</td>\n",
       "      <td>3</td>\n",
       "    </tr>\n",
       "    <tr>\n",
       "      <th>2</th>\n",
       "      <td>Mac</td>\n",
       "      <td>23</td>\n",
       "      <td>Goat</td>\n",
       "      <td>Wood</td>\n",
       "      <td>3</td>\n",
       "      <td>1</td>\n",
       "      <td>1</td>\n",
       "    </tr>\n",
       "    <tr>\n",
       "      <th>3</th>\n",
       "      <td>Ulta</td>\n",
       "      <td>52</td>\n",
       "      <td>Synthetic</td>\n",
       "      <td>Chrome</td>\n",
       "      <td>2</td>\n",
       "      <td>3</td>\n",
       "      <td>3</td>\n",
       "    </tr>\n",
       "    <tr>\n",
       "      <th>4</th>\n",
       "      <td>Sephora</td>\n",
       "      <td>97</td>\n",
       "      <td>Human</td>\n",
       "      <td>Black</td>\n",
       "      <td>1</td>\n",
       "      <td>2</td>\n",
       "      <td>2</td>\n",
       "    </tr>\n",
       "  </tbody>\n",
       "</table>\n",
       "</div>"
      ],
      "text/plain": [
       "  MakeupBrush  Price       Hair  Handle  brush_num  handle_num  hair_num\n",
       "0     Sephora     97      Human   Black          1           2         2\n",
       "1        Ulta     54  Synthetic  Chrome          2           3         3\n",
       "2         Mac     23       Goat    Wood          3           1         1\n",
       "3        Ulta     52  Synthetic  Chrome          2           3         3\n",
       "4     Sephora     97      Human   Black          1           2         2"
      ]
     },
     "execution_count": 41,
     "metadata": {},
     "output_type": "execute_result"
    }
   ],
   "source": [
    "# view head of data to ensure functions worked properly\n",
    "df.head()"
   ]
  },
  {
   "cell_type": "code",
   "execution_count": 49,
   "metadata": {
    "collapsed": false
   },
   "outputs": [
    {
     "name": "stdout",
     "output_type": "stream",
     "text": [
      "<class 'pandas.core.frame.DataFrame'>\n",
      "RangeIndex: 459 entries, 0 to 458\n",
      "Data columns (total 7 columns):\n",
      "MakeupBrush    459 non-null object\n",
      "Price          459 non-null int64\n",
      "Hair           459 non-null object\n",
      "Handle         459 non-null object\n",
      "brush_num      459 non-null int64\n",
      "handle_num     459 non-null int64\n",
      "hair_num       459 non-null int64\n",
      "dtypes: int64(4), object(3)\n",
      "memory usage: 25.2+ KB\n"
     ]
    }
   ],
   "source": [
    "# view info on data for feature columns\n",
    "df.info()"
   ]
  },
  {
   "cell_type": "code",
   "execution_count": 55,
   "metadata": {
    "collapsed": false
   },
   "outputs": [
    {
     "name": "stderr",
     "output_type": "stream",
     "text": [
      "C:\\Users\\Cianika\\Anaconda2\\lib\\site-packages\\ipykernel\\__main__.py:3: SettingWithCopyWarning: \n",
      "A value is trying to be set on a copy of a slice from a DataFrame\n",
      "\n",
      "See the caveats in the documentation: http://pandas.pydata.org/pandas-docs/stable/indexing.html#indexing-view-versus-copy\n",
      "  app.launch_new_instance()\n"
     ]
    }
   ],
   "source": [
    "# create features\n",
    "features = df.select_dtypes([np.number])\n",
    "features.drop(['Price'], axis=1, inplace=True)"
   ]
  },
  {
   "cell_type": "code",
   "execution_count": 56,
   "metadata": {
    "collapsed": false
   },
   "outputs": [],
   "source": [
    "# create features\n",
    "X = features"
   ]
  },
  {
   "cell_type": "code",
   "execution_count": 57,
   "metadata": {
    "collapsed": true
   },
   "outputs": [],
   "source": [
    "# create values\n",
    "y = df['Price']"
   ]
  },
  {
   "cell_type": "code",
   "execution_count": 59,
   "metadata": {
    "collapsed": false
   },
   "outputs": [],
   "source": [
    "# import package to split data\n",
    "from sklearn.model_selection import train_test_split"
   ]
  },
  {
   "cell_type": "code",
   "execution_count": 60,
   "metadata": {
    "collapsed": true
   },
   "outputs": [],
   "source": [
    "# create split on data\n",
    "X_train, X_test, y_train, y_test = train_test_split(X, y, test_size=0.33, random_state=42)"
   ]
  },
  {
   "cell_type": "code",
   "execution_count": 61,
   "metadata": {
    "collapsed": true
   },
   "outputs": [],
   "source": [
    "# import package for linear regression \n",
    "from sklearn.linear_model import LinearRegression"
   ]
  },
  {
   "cell_type": "code",
   "execution_count": 62,
   "metadata": {
    "collapsed": false
   },
   "outputs": [
    {
     "data": {
      "text/plain": [
       "LinearRegression(copy_X=True, fit_intercept=True, n_jobs=1, normalize=False)"
      ]
     },
     "execution_count": 62,
     "metadata": {},
     "output_type": "execute_result"
    }
   ],
   "source": [
    "# creat object and fit model\n",
    "lm = LinearRegression()\n",
    "lm.fit(X_train, y_train)"
   ]
  },
  {
   "cell_type": "code",
   "execution_count": 66,
   "metadata": {
    "collapsed": false
   },
   "outputs": [
    {
     "name": "stdout",
     "output_type": "stream",
     "text": [
      "113.327694405\n",
      "[-27.33354845   0.52669287   0.52669287]\n"
     ]
    }
   ],
   "source": [
    "# print intercept & coef\n",
    "print lm.intercept_\n",
    "print lm.coef_"
   ]
  },
  {
   "cell_type": "code",
   "execution_count": 69,
   "metadata": {
    "collapsed": false
   },
   "outputs": [
    {
     "data": {
      "text/html": [
       "<div>\n",
       "<style>\n",
       "    .dataframe thead tr:only-child th {\n",
       "        text-align: right;\n",
       "    }\n",
       "\n",
       "    .dataframe thead th {\n",
       "        text-align: left;\n",
       "    }\n",
       "\n",
       "    .dataframe tbody tr th {\n",
       "        vertical-align: top;\n",
       "    }\n",
       "</style>\n",
       "<table border=\"1\" class=\"dataframe\">\n",
       "  <thead>\n",
       "    <tr style=\"text-align: right;\">\n",
       "      <th></th>\n",
       "      <th>coef</th>\n",
       "    </tr>\n",
       "  </thead>\n",
       "  <tbody>\n",
       "    <tr>\n",
       "      <th>brush_num</th>\n",
       "      <td>-27.333548</td>\n",
       "    </tr>\n",
       "    <tr>\n",
       "      <th>handle_num</th>\n",
       "      <td>0.526693</td>\n",
       "    </tr>\n",
       "    <tr>\n",
       "      <th>hair_num</th>\n",
       "      <td>0.526693</td>\n",
       "    </tr>\n",
       "  </tbody>\n",
       "</table>\n",
       "</div>"
      ],
      "text/plain": [
       "                 coef\n",
       "brush_num  -27.333548\n",
       "handle_num   0.526693\n",
       "hair_num     0.526693"
      ]
     },
     "execution_count": 69,
     "metadata": {},
     "output_type": "execute_result"
    }
   ],
   "source": [
    "# create coef dataframe to better view feature data\n",
    "cdf = pd.DataFrame(lm.coef_, X_train.columns, columns=['coef'])\n",
    "cdf"
   ]
  },
  {
   "cell_type": "code",
   "execution_count": 70,
   "metadata": {
    "collapsed": false
   },
   "outputs": [
    {
     "data": {
      "text/plain": [
       "array([ 88.10091743,  32.38043478,  61.82075472,  88.10091743,\n",
       "        32.38043478,  61.82075472,  61.82075472,  61.82075472,\n",
       "        88.10091743,  88.10091743,  88.10091743,  88.10091743,\n",
       "        61.82075472,  32.38043478,  88.10091743,  61.82075472,\n",
       "        88.10091743,  88.10091743,  32.38043478,  88.10091743,\n",
       "        61.82075472,  61.82075472,  61.82075472,  88.10091743,\n",
       "        88.10091743,  32.38043478,  32.38043478,  61.82075472,\n",
       "        61.82075472,  61.82075472,  32.38043478,  32.38043478,\n",
       "        88.10091743,  88.10091743,  88.10091743,  61.82075472,\n",
       "        61.82075472,  32.38043478,  61.82075472,  88.10091743,\n",
       "        32.38043478,  61.82075472,  88.10091743,  32.38043478,\n",
       "        32.38043478,  32.38043478,  61.82075472,  88.10091743,\n",
       "        32.38043478,  88.10091743,  32.38043478,  61.82075472,\n",
       "        61.82075472,  61.82075472,  32.38043478,  88.10091743,\n",
       "        61.82075472,  61.82075472,  61.82075472,  32.38043478,\n",
       "        61.82075472,  61.82075472,  32.38043478,  88.10091743,\n",
       "        88.10091743,  88.10091743,  61.82075472,  88.10091743,\n",
       "        61.82075472,  32.38043478,  61.82075472,  88.10091743,\n",
       "        88.10091743,  88.10091743,  88.10091743,  88.10091743,\n",
       "        32.38043478,  88.10091743,  32.38043478,  88.10091743,\n",
       "        88.10091743,  88.10091743,  88.10091743,  61.82075472,\n",
       "        32.38043478,  32.38043478,  32.38043478,  88.10091743,\n",
       "        32.38043478,  32.38043478,  32.38043478,  32.38043478,\n",
       "        88.10091743,  61.82075472,  88.10091743,  61.82075472,\n",
       "        32.38043478,  61.82075472,  61.82075472,  61.82075472,\n",
       "        61.82075472,  61.82075472,  61.82075472,  88.10091743,\n",
       "        88.10091743,  61.82075472,  88.10091743,  61.82075472,\n",
       "        61.82075472,  88.10091743,  61.82075472,  32.38043478,\n",
       "        88.10091743,  32.38043478,  32.38043478,  61.82075472,\n",
       "        61.82075472,  61.82075472,  32.38043478,  61.82075472,\n",
       "        88.10091743,  32.38043478,  61.82075472,  61.82075472,\n",
       "        88.10091743,  61.82075472,  88.10091743,  88.10091743,\n",
       "        61.82075472,  61.82075472,  88.10091743,  88.10091743,\n",
       "        88.10091743,  61.82075472,  32.38043478,  88.10091743,\n",
       "        61.82075472,  61.82075472,  61.82075472,  32.38043478,\n",
       "        61.82075472,  61.82075472,  32.38043478,  88.10091743,\n",
       "        88.10091743,  32.38043478,  61.82075472,  61.82075472,\n",
       "        88.10091743,  32.38043478,  61.82075472,  32.38043478])"
      ]
     },
     "execution_count": 70,
     "metadata": {},
     "output_type": "execute_result"
    }
   ],
   "source": [
    "# view predictions\n",
    "predictions = lm.predict(X_test)\n",
    "predictions"
   ]
  },
  {
   "cell_type": "markdown",
   "metadata": {},
   "source": [
    "# Model Evaluation"
   ]
  },
  {
   "cell_type": "code",
   "execution_count": 72,
   "metadata": {
    "collapsed": false
   },
   "outputs": [
    {
     "data": {
      "text/plain": [
       "<matplotlib.collections.PathCollection at 0x10bae438>"
      ]
     },
     "execution_count": 72,
     "metadata": {},
     "output_type": "execute_result"
    },
    {
     "data": {
      "image/png": "[encoded data removed]",
      "text/plain": [
       "<matplotlib.figure.Figure at 0xe5bb748>"
      ]
     },
     "metadata": {},
     "output_type": "display_data"
    }
   ],
   "source": [
    "# plot predictions and actual values\n",
    "plt.scatter(y_test, predictions)"
   ]
  },
  {
   "cell_type": "code",
   "execution_count": 89,
   "metadata": {
    "collapsed": false
   },
   "outputs": [],
   "source": [
    "# evalute model\n",
    "from sklearn import metrics"
   ]
  },
  {
   "cell_type": "code",
   "execution_count": 91,
   "metadata": {
    "collapsed": false
   },
   "outputs": [
    {
     "data": {
      "text/plain": [
       "6.66454973739864"
      ]
     },
     "execution_count": 91,
     "metadata": {},
     "output_type": "execute_result"
    }
   ],
   "source": [
    "# calculate MAE\n",
    "metrics.mean_absolute_error(y_test, predictions)"
   ]
  },
  {
   "cell_type": "code",
   "execution_count": 93,
   "metadata": {
    "collapsed": false
   },
   "outputs": [
    {
     "data": {
      "text/plain": [
       "60.755111186574382"
      ]
     },
     "execution_count": 93,
     "metadata": {},
     "output_type": "execute_result"
    }
   ],
   "source": [
    "# calculate MSE\n",
    "metrics.mean_squared_error(y_test, predictions)"
   ]
  },
  {
   "cell_type": "code",
   "execution_count": 96,
   "metadata": {
    "collapsed": false
   },
   "outputs": [
    {
     "data": {
      "text/plain": [
       "7.7945565099352754"
      ]
     },
     "execution_count": 96,
     "metadata": {},
     "output_type": "execute_result"
    }
   ],
   "source": [
    "# calculate RMSE\n",
    "np.sqrt(metrics.mean_squared_error(y_test, predictions))"
   ]
  },
  {
   "cell_type": "code",
   "execution_count": 97,
   "metadata": {
    "collapsed": false
   },
   "outputs": [
    {
     "data": {
      "text/plain": [
       "0.87680778267733117"
      ]
     },
     "execution_count": 97,
     "metadata": {},
     "output_type": "execute_result"
    }
   ],
   "source": [
    "# explained variance \n",
    "metrics.explained_variance_score(y_test, predictions)"
   ]
  },
  {
   "cell_type": "code",
   "execution_count": 103,
   "metadata": {
    "collapsed": false
   },
   "outputs": [
    {
     "data": {
      "text/plain": [
       "0.8869019602056164"
      ]
     },
     "execution_count": 103,
     "metadata": {},
     "output_type": "execute_result"
    }
   ],
   "source": [
    "# print score\n",
    "lm.score(X, y)"
   ]
  },
  {
   "cell_type": "code",
   "execution_count": 123,
   "metadata": {
    "collapsed": false,
    "scrolled": true
   },
   "outputs": [
    {
     "data": {
      "text/plain": [
       "<matplotlib.axes._subplots.AxesSubplot at 0x110f8128>"
      ]
     },
     "execution_count": 123,
     "metadata": {},
     "output_type": "execute_result"
    },
    {
     "data": {
      "image/png": "[encoded data removed]",
      "text/plain": [
       "<matplotlib.figure.Figure at 0x10f48cf8>"
      ]
     },
     "metadata": {},
     "output_type": "display_data"
    }
   ],
   "source": [
    "# plot predictions frequency\n",
    "sns.distplot(predictions)"
   ]
  },
  {
   "cell_type": "code",
   "execution_count": 129,
   "metadata": {
    "collapsed": false
   },
   "outputs": [
    {
     "data": {
      "text/plain": [
       "<matplotlib.axes._subplots.AxesSubplot at 0x122f8ef0>"
      ]
     },
     "execution_count": 129,
     "metadata": {},
     "output_type": "execute_result"
    },
    {
     "data": {
      "image/png": "[encoded data removed]",
      "text/plain": [
       "<matplotlib.figure.Figure at 0x12301550>"
      ]
     },
     "metadata": {},
     "output_type": "display_data"
    }
   ],
   "source": [
    "sns.distplot((y_test - predictions), bins=50)"
   ]
  },
  {
   "cell_type": "code",
   "execution_count": 133,
   "metadata": {
    "collapsed": false
   },
   "outputs": [
    {
     "data": {
      "text/plain": [
       "array([ 88.10091743,  61.82075472,  32.38043478])"
      ]
     },
     "execution_count": 133,
     "metadata": {},
     "output_type": "execute_result"
    }
   ],
   "source": [
    "# predict a price of each makeup brushes by brand\n",
    "lm.predict([[1,2,2], [2,3,3], [3,1,1]])"
   ]
  },
  {
   "cell_type": "code",
   "execution_count": null,
   "metadata": {
    "collapsed": false
   },
   "outputs": [],
   "source": []
  },
  {
   "cell_type": "code",
   "execution_count": null,
   "metadata": {
    "collapsed": false
   },
   "outputs": [],
   "source": []
  },
  {
   "cell_type": "code",
   "execution_count": null,
   "metadata": {
    "collapsed": true
   },
   "outputs": [],
   "source": []
  }
 ],
 "metadata": {
  "kernelspec": {
   "display_name": "Python 2",
   "language": "python",
   "name": "python2"
  },
  "language_info": {
   "codemirror_mode": {
    "name": "ipython",
    "version": 2
   },
   "file_extension": ".py",
   "mimetype": "text/x-python",
   "name": "python",
   "nbconvert_exporter": "python",
   "pygments_lexer": "ipython2",
   "version": "2.7.13"
  }
 },
 "nbformat": 4,
 "nbformat_minor": 2
}
