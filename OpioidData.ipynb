{
 "cells": [
  {
   "cell_type": "markdown",
   "metadata": {},
   "source": [
    "# OPIOID DEATHS BY YEAR"
   ]
  },
  {
   "cell_type": "markdown",
   "metadata": {},
   "source": [
    "I created this simple analysis to visualize the total number of opioid deaths by year. This data was provided by Big Health Coalition http://bchi.bigcitieshealth.org/indicators/1892/10433. "
   ]
  },
  {
   "cell_type": "code",
   "execution_count": 51,
   "metadata": {
    "collapsed": true
   },
   "outputs": [],
   "source": [
    "import pandas as pd\n",
    "import numpy as np\n",
    "import matplotlib.pyplot as plt\n",
    "import seaborn as sns\n",
    "%matplotlib inline"
   ]
  },
  {
   "cell_type": "code",
   "execution_count": 52,
   "metadata": {
    "collapsed": false
   },
   "outputs": [
    {
     "data": {
      "text/html": [
       "<div>\n",
       "<style>\n",
       "    .dataframe thead tr:only-child th {\n",
       "        text-align: right;\n",
       "    }\n",
       "\n",
       "    .dataframe thead th {\n",
       "        text-align: left;\n",
       "    }\n",
       "\n",
       "    .dataframe tbody tr th {\n",
       "        vertical-align: top;\n",
       "    }\n",
       "</style>\n",
       "<table border=\"1\" class=\"dataframe\">\n",
       "  <thead>\n",
       "    <tr style=\"text-align: right;\">\n",
       "      <th></th>\n",
       "      <th>Indicator Category</th>\n",
       "      <th>Indicator</th>\n",
       "      <th>Shortened Indicator Name</th>\n",
       "      <th>Shortened Indicator Name (Graph)</th>\n",
       "      <th>Year</th>\n",
       "      <th>Sex</th>\n",
       "      <th>Race/Ethnicity</th>\n",
       "      <th>Value</th>\n",
       "      <th>Place</th>\n",
       "      <th>BCHC Requested Methodology</th>\n",
       "      <th>Source</th>\n",
       "      <th>Methods</th>\n",
       "      <th>Notes</th>\n",
       "      <th>95% Confidence Level - Low</th>\n",
       "      <th>95% Confidence Level - High</th>\n",
       "    </tr>\n",
       "  </thead>\n",
       "  <tbody>\n",
       "    <tr>\n",
       "      <th>0</th>\n",
       "      <td>Behavioral Health/Substance Abuse</td>\n",
       "      <td>Opioid-Related Unintentional Drug Overdose Mor...</td>\n",
       "      <td>Opioid-Related Overdose Mortality Rate</td>\n",
       "      <td>NaN</td>\n",
       "      <td>2012</td>\n",
       "      <td>Both</td>\n",
       "      <td>All</td>\n",
       "      <td>7.1</td>\n",
       "      <td>Atlanta (Fulton County), GA</td>\n",
       "      <td>Age-adjusted rate of opioid-related mortality ...</td>\n",
       "      <td>Centers for Disease Control and Prevention, Na...</td>\n",
       "      <td>NaN</td>\n",
       "      <td>This indicator is not exclusive of other drugs...</td>\n",
       "      <td>NaN</td>\n",
       "      <td>NaN</td>\n",
       "    </tr>\n",
       "    <tr>\n",
       "      <th>1</th>\n",
       "      <td>Behavioral Health/Substance Abuse</td>\n",
       "      <td>Opioid-Related Unintentional Drug Overdose Mor...</td>\n",
       "      <td>Opioid-Related Overdose Mortality Rate</td>\n",
       "      <td>NaN</td>\n",
       "      <td>2012</td>\n",
       "      <td>Both</td>\n",
       "      <td>Black</td>\n",
       "      <td>6.7</td>\n",
       "      <td>Atlanta (Fulton County), GA</td>\n",
       "      <td>Age-adjusted rate of opioid-related mortality ...</td>\n",
       "      <td>Centers for Disease Control and Prevention, Na...</td>\n",
       "      <td>NaN</td>\n",
       "      <td>This indicator is not exclusive of other drugs...</td>\n",
       "      <td>NaN</td>\n",
       "      <td>NaN</td>\n",
       "    </tr>\n",
       "    <tr>\n",
       "      <th>2</th>\n",
       "      <td>Behavioral Health/Substance Abuse</td>\n",
       "      <td>Opioid-Related Unintentional Drug Overdose Mor...</td>\n",
       "      <td>Opioid-Related Overdose Mortality Rate</td>\n",
       "      <td>NaN</td>\n",
       "      <td>2012</td>\n",
       "      <td>Both</td>\n",
       "      <td>White</td>\n",
       "      <td>8.7</td>\n",
       "      <td>Atlanta (Fulton County), GA</td>\n",
       "      <td>Age-adjusted rate of opioid-related mortality ...</td>\n",
       "      <td>Centers for Disease Control and Prevention, Na...</td>\n",
       "      <td>NaN</td>\n",
       "      <td>This indicator is not exclusive of other drugs...</td>\n",
       "      <td>NaN</td>\n",
       "      <td>NaN</td>\n",
       "    </tr>\n",
       "  </tbody>\n",
       "</table>\n",
       "</div>"
      ],
      "text/plain": [
       "                  Indicator Category  \\\n",
       "0  Behavioral Health/Substance Abuse   \n",
       "1  Behavioral Health/Substance Abuse   \n",
       "2  Behavioral Health/Substance Abuse   \n",
       "\n",
       "                                           Indicator  \\\n",
       "0  Opioid-Related Unintentional Drug Overdose Mor...   \n",
       "1  Opioid-Related Unintentional Drug Overdose Mor...   \n",
       "2  Opioid-Related Unintentional Drug Overdose Mor...   \n",
       "\n",
       "                 Shortened Indicator Name Shortened Indicator Name (Graph)  \\\n",
       "0  Opioid-Related Overdose Mortality Rate                              NaN   \n",
       "1  Opioid-Related Overdose Mortality Rate                              NaN   \n",
       "2  Opioid-Related Overdose Mortality Rate                              NaN   \n",
       "\n",
       "   Year   Sex Race/Ethnicity Value                        Place  \\\n",
       "0  2012  Both            All   7.1  Atlanta (Fulton County), GA   \n",
       "1  2012  Both          Black   6.7  Atlanta (Fulton County), GA   \n",
       "2  2012  Both          White   8.7  Atlanta (Fulton County), GA   \n",
       "\n",
       "                          BCHC Requested Methodology  \\\n",
       "0  Age-adjusted rate of opioid-related mortality ...   \n",
       "1  Age-adjusted rate of opioid-related mortality ...   \n",
       "2  Age-adjusted rate of opioid-related mortality ...   \n",
       "\n",
       "                                              Source Methods  \\\n",
       "0  Centers for Disease Control and Prevention, Na...     NaN   \n",
       "1  Centers for Disease Control and Prevention, Na...     NaN   \n",
       "2  Centers for Disease Control and Prevention, Na...     NaN   \n",
       "\n",
       "                                               Notes  \\\n",
       "0  This indicator is not exclusive of other drugs...   \n",
       "1  This indicator is not exclusive of other drugs...   \n",
       "2  This indicator is not exclusive of other drugs...   \n",
       "\n",
       "  95% Confidence Level - Low 95% Confidence Level - High  \n",
       "0                        NaN                         NaN  \n",
       "1                        NaN                         NaN  \n",
       "2                        NaN                         NaN  "
      ]
     },
     "execution_count": 52,
     "metadata": {},
     "output_type": "execute_result"
    }
   ],
   "source": [
    "# import data & read first 3 lines\n",
    "df = pd.read_csv('C:/Users/Cianika/Desktop/Data Science Degree/Data/opidata.csv')\n",
    "df.head(3)"
   ]
  },
  {
   "cell_type": "markdown",
   "metadata": {},
   "source": [
    "I indexed the data to only show data with Opioid related deaths"
   ]
  },
  {
   "cell_type": "code",
   "execution_count": 99,
   "metadata": {
    "collapsed": false
   },
   "outputs": [
    {
     "data": {
      "text/html": [
       "<div>\n",
       "<style>\n",
       "    .dataframe thead tr:only-child th {\n",
       "        text-align: right;\n",
       "    }\n",
       "\n",
       "    .dataframe thead th {\n",
       "        text-align: left;\n",
       "    }\n",
       "\n",
       "    .dataframe tbody tr th {\n",
       "        vertical-align: top;\n",
       "    }\n",
       "</style>\n",
       "<table border=\"1\" class=\"dataframe\">\n",
       "  <thead>\n",
       "    <tr style=\"text-align: right;\">\n",
       "      <th></th>\n",
       "      <th>Indicator Category</th>\n",
       "      <th>Indicator</th>\n",
       "      <th>Shortened Indicator Name</th>\n",
       "      <th>Shortened Indicator Name (Graph)</th>\n",
       "      <th>Year</th>\n",
       "      <th>Sex</th>\n",
       "      <th>Race/Ethnicity</th>\n",
       "      <th>Value</th>\n",
       "      <th>Place</th>\n",
       "      <th>BCHC Requested Methodology</th>\n",
       "      <th>Source</th>\n",
       "      <th>Methods</th>\n",
       "      <th>Notes</th>\n",
       "      <th>95% Confidence Level - Low</th>\n",
       "      <th>95% Confidence Level - High</th>\n",
       "    </tr>\n",
       "  </thead>\n",
       "  <tbody>\n",
       "    <tr>\n",
       "      <th>0</th>\n",
       "      <td>Behavioral Health/Substance Abuse</td>\n",
       "      <td>Opioid-Related Unintentional Drug Overdose Mor...</td>\n",
       "      <td>Opioid-Related Overdose Mortality Rate</td>\n",
       "      <td>NaN</td>\n",
       "      <td>2012</td>\n",
       "      <td>Both</td>\n",
       "      <td>All</td>\n",
       "      <td>7.1</td>\n",
       "      <td>Atlanta (Fulton County), GA</td>\n",
       "      <td>Age-adjusted rate of opioid-related mortality ...</td>\n",
       "      <td>Centers for Disease Control and Prevention, Na...</td>\n",
       "      <td>NaN</td>\n",
       "      <td>This indicator is not exclusive of other drugs...</td>\n",
       "      <td>NaN</td>\n",
       "      <td>NaN</td>\n",
       "    </tr>\n",
       "    <tr>\n",
       "      <th>1</th>\n",
       "      <td>Behavioral Health/Substance Abuse</td>\n",
       "      <td>Opioid-Related Unintentional Drug Overdose Mor...</td>\n",
       "      <td>Opioid-Related Overdose Mortality Rate</td>\n",
       "      <td>NaN</td>\n",
       "      <td>2012</td>\n",
       "      <td>Both</td>\n",
       "      <td>Black</td>\n",
       "      <td>6.7</td>\n",
       "      <td>Atlanta (Fulton County), GA</td>\n",
       "      <td>Age-adjusted rate of opioid-related mortality ...</td>\n",
       "      <td>Centers for Disease Control and Prevention, Na...</td>\n",
       "      <td>NaN</td>\n",
       "      <td>This indicator is not exclusive of other drugs...</td>\n",
       "      <td>NaN</td>\n",
       "      <td>NaN</td>\n",
       "    </tr>\n",
       "    <tr>\n",
       "      <th>2</th>\n",
       "      <td>Behavioral Health/Substance Abuse</td>\n",
       "      <td>Opioid-Related Unintentional Drug Overdose Mor...</td>\n",
       "      <td>Opioid-Related Overdose Mortality Rate</td>\n",
       "      <td>NaN</td>\n",
       "      <td>2012</td>\n",
       "      <td>Both</td>\n",
       "      <td>White</td>\n",
       "      <td>8.7</td>\n",
       "      <td>Atlanta (Fulton County), GA</td>\n",
       "      <td>Age-adjusted rate of opioid-related mortality ...</td>\n",
       "      <td>Centers for Disease Control and Prevention, Na...</td>\n",
       "      <td>NaN</td>\n",
       "      <td>This indicator is not exclusive of other drugs...</td>\n",
       "      <td>NaN</td>\n",
       "      <td>NaN</td>\n",
       "    </tr>\n",
       "  </tbody>\n",
       "</table>\n",
       "</div>"
      ],
      "text/plain": [
       "                  Indicator Category  \\\n",
       "0  Behavioral Health/Substance Abuse   \n",
       "1  Behavioral Health/Substance Abuse   \n",
       "2  Behavioral Health/Substance Abuse   \n",
       "\n",
       "                                           Indicator  \\\n",
       "0  Opioid-Related Unintentional Drug Overdose Mor...   \n",
       "1  Opioid-Related Unintentional Drug Overdose Mor...   \n",
       "2  Opioid-Related Unintentional Drug Overdose Mor...   \n",
       "\n",
       "                 Shortened Indicator Name Shortened Indicator Name (Graph)  \\\n",
       "0  Opioid-Related Overdose Mortality Rate                              NaN   \n",
       "1  Opioid-Related Overdose Mortality Rate                              NaN   \n",
       "2  Opioid-Related Overdose Mortality Rate                              NaN   \n",
       "\n",
       "   Year   Sex Race/Ethnicity Value                        Place  \\\n",
       "0  2012  Both            All   7.1  Atlanta (Fulton County), GA   \n",
       "1  2012  Both          Black   6.7  Atlanta (Fulton County), GA   \n",
       "2  2012  Both          White   8.7  Atlanta (Fulton County), GA   \n",
       "\n",
       "                          BCHC Requested Methodology  \\\n",
       "0  Age-adjusted rate of opioid-related mortality ...   \n",
       "1  Age-adjusted rate of opioid-related mortality ...   \n",
       "2  Age-adjusted rate of opioid-related mortality ...   \n",
       "\n",
       "                                              Source Methods  \\\n",
       "0  Centers for Disease Control and Prevention, Na...     NaN   \n",
       "1  Centers for Disease Control and Prevention, Na...     NaN   \n",
       "2  Centers for Disease Control and Prevention, Na...     NaN   \n",
       "\n",
       "                                               Notes  \\\n",
       "0  This indicator is not exclusive of other drugs...   \n",
       "1  This indicator is not exclusive of other drugs...   \n",
       "2  This indicator is not exclusive of other drugs...   \n",
       "\n",
       "  95% Confidence Level - Low 95% Confidence Level - High  \n",
       "0                        NaN                         NaN  \n",
       "1                        NaN                         NaN  \n",
       "2                        NaN                         NaN  "
      ]
     },
     "execution_count": 99,
     "metadata": {},
     "output_type": "execute_result"
    }
   ],
   "source": [
    "# subset on opioid data and view first 3 lines\n",
    "opidata = df[df['Shortened Indicator Name'] == 'Opioid-Related Overdose Mortality Rate']\n",
    "opidata.head(3)"
   ]
  },
  {
   "cell_type": "markdown",
   "metadata": {},
   "source": [
    "I used the groupby function on the subsetted data to show the total number of deaths by year, this is the data that I would like to visualize."
   ]
  },
  {
   "cell_type": "code",
   "execution_count": 54,
   "metadata": {
    "collapsed": false
   },
   "outputs": [
    {
     "data": {
      "text/plain": [
       "Year\n",
       "2010    13\n",
       "2011    47\n",
       "2012    90\n",
       "2013    91\n",
       "2014    90\n",
       "2015    19\n",
       "Name: Value, dtype: int64"
      ]
     },
     "execution_count": 54,
     "metadata": {},
     "output_type": "execute_result"
    }
   ],
   "source": [
    "# view sum of opioid deaths by year\n",
    "opidata.groupby('Year').Value.count()"
   ]
  },
  {
   "cell_type": "code",
   "execution_count": 101,
   "metadata": {
    "collapsed": false,
    "scrolled": false
   },
   "outputs": [
    {
     "data": {
      "text/plain": [
       "(0, 100)"
      ]
     },
     "execution_count": 101,
     "metadata": {},
     "output_type": "execute_result"
    },
    {
     "data": {
      "image/png": "[encoded data removed]",
      "text/plain": [
       "<matplotlib.figure.Figure at 0x13f8a4a8>"
      ]
     },
     "metadata": {},
     "output_type": "display_data"
    }
   ],
   "source": [
    "# visualize opidata\n",
    "sns.set_style('whitegrid')\n",
    "plt.figure(figsize = (12, 8))\n",
    "plt.title('Opioid-Related Unintenional Deaths by Year', weight='bold').set_fontsize('18')\n",
    "ax = sns.countplot(x='Year',data=opidata, palette='inferno')\n",
    "ax.set(xlabel='Year', ylabel='Number of Deaths (per 100,000 people)')\n",
    "plt.ylim(0, 100)"
   ]
  },
  {
   "cell_type": "markdown",
   "metadata": {},
   "source": [
    "According to this dataset from the Big Cities Coalition, Opioid related deaths have decreased tremendously in 2015 compared to the 2012 - 2015 period. If I had more data to supplement this dataset, Id be able to further explain what cause the increase/decrease in death rates."
   ]
  },
  {
   "cell_type": "markdown",
   "metadata": {},
   "source": []
  }
 ],
 "metadata": {
  "kernelspec": {
   "display_name": "Python 2",
   "language": "python",
   "name": "python2"
  },
  "language_info": {
   "codemirror_mode": {
    "name": "ipython",
    "version": 2
   },
   "file_extension": ".py",
   "mimetype": "text/x-python",
   "name": "python",
   "nbconvert_exporter": "python",
   "pygments_lexer": "ipython2",
   "version": "2.7.13"
  }
 },
 "nbformat": 4,
 "nbformat_minor": 2
}
